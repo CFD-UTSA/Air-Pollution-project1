{
 "cells": [
  {
   "cell_type": "code",
   "execution_count": 1,
   "metadata": {},
   "outputs": [],
   "source": [
    "import pandas as pd"
   ]
  },
  {
   "cell_type": "code",
   "execution_count": 84,
   "metadata": {},
   "outputs": [],
   "source": [
    "import numpy as np"
   ]
  },
  {
   "cell_type": "code",
   "execution_count": 46,
   "metadata": {},
   "outputs": [],
   "source": [
    "import matplotlib.pyplot as plt"
   ]
  },
  {
   "cell_type": "code",
   "execution_count": 80,
   "metadata": {},
   "outputs": [],
   "source": [
    "from numpy.fft import fft, ifft"
   ]
  },
  {
   "cell_type": "code",
   "execution_count": 34,
   "metadata": {},
   "outputs": [],
   "source": [
    "\n",
    "airq = pd.read_csv(\"measurements.csv\")"
   ]
  },
  {
   "cell_type": "code",
   "execution_count": 35,
   "metadata": {},
   "outputs": [
    {
     "data": {
      "text/html": [
       "<div>\n",
       "<style scoped>\n",
       "    .dataframe tbody tr th:only-of-type {\n",
       "        vertical-align: middle;\n",
       "    }\n",
       "\n",
       "    .dataframe tbody tr th {\n",
       "        vertical-align: top;\n",
       "    }\n",
       "\n",
       "    .dataframe thead th {\n",
       "        text-align: right;\n",
       "    }\n",
       "</style>\n",
       "<table border=\"1\" class=\"dataframe\">\n",
       "  <thead>\n",
       "    <tr style=\"text-align: right;\">\n",
       "      <th></th>\n",
       "      <th>locationId</th>\n",
       "      <th>location</th>\n",
       "      <th>city</th>\n",
       "      <th>country</th>\n",
       "      <th>utc</th>\n",
       "      <th>local</th>\n",
       "      <th>parameter</th>\n",
       "      <th>value</th>\n",
       "      <th>unit</th>\n",
       "      <th>latitude</th>\n",
       "      <th>longitude</th>\n",
       "    </tr>\n",
       "  </thead>\n",
       "  <tbody>\n",
       "    <tr>\n",
       "      <th>0</th>\n",
       "      <td>61498</td>\n",
       "      <td>NaN</td>\n",
       "      <td>Dallas</td>\n",
       "      <td>US</td>\n",
       "      <td>2016-02-05T00:00:00+00:00</td>\n",
       "      <td>2016-02-05T00:00:00+00:00</td>\n",
       "      <td>ch4</td>\n",
       "      <td>0.467942</td>\n",
       "      <td>ppm</td>\n",
       "      <td>32.874983</td>\n",
       "      <td>-96.804699</td>\n",
       "    </tr>\n",
       "    <tr>\n",
       "      <th>1</th>\n",
       "      <td>61498</td>\n",
       "      <td>NaN</td>\n",
       "      <td>Dallas</td>\n",
       "      <td>US</td>\n",
       "      <td>2016-02-05T00:00:00+00:00</td>\n",
       "      <td>2016-02-05T00:00:00+00:00</td>\n",
       "      <td>ch4</td>\n",
       "      <td>0.520272</td>\n",
       "      <td>ppm</td>\n",
       "      <td>32.865702</td>\n",
       "      <td>-96.820827</td>\n",
       "    </tr>\n",
       "    <tr>\n",
       "      <th>2</th>\n",
       "      <td>61498</td>\n",
       "      <td>NaN</td>\n",
       "      <td>Dallas</td>\n",
       "      <td>US</td>\n",
       "      <td>2016-02-05T00:00:00+00:00</td>\n",
       "      <td>2016-02-05T00:00:00+00:00</td>\n",
       "      <td>ch4</td>\n",
       "      <td>0.706175</td>\n",
       "      <td>ppm</td>\n",
       "      <td>32.874053</td>\n",
       "      <td>-96.813518</td>\n",
       "    </tr>\n",
       "    <tr>\n",
       "      <th>3</th>\n",
       "      <td>61498</td>\n",
       "      <td>NaN</td>\n",
       "      <td>Dallas</td>\n",
       "      <td>US</td>\n",
       "      <td>2016-02-05T00:00:00+00:00</td>\n",
       "      <td>2016-02-05T00:00:00+00:00</td>\n",
       "      <td>ch4</td>\n",
       "      <td>0.970707</td>\n",
       "      <td>ppm</td>\n",
       "      <td>32.776010</td>\n",
       "      <td>-96.751040</td>\n",
       "    </tr>\n",
       "    <tr>\n",
       "      <th>4</th>\n",
       "      <td>61498</td>\n",
       "      <td>NaN</td>\n",
       "      <td>Dallas</td>\n",
       "      <td>US</td>\n",
       "      <td>2016-02-05T00:00:00+00:00</td>\n",
       "      <td>2016-02-05T00:00:00+00:00</td>\n",
       "      <td>ch4</td>\n",
       "      <td>0.424838</td>\n",
       "      <td>ppm</td>\n",
       "      <td>32.734751</td>\n",
       "      <td>-96.811575</td>\n",
       "    </tr>\n",
       "    <tr>\n",
       "      <th>5</th>\n",
       "      <td>61498</td>\n",
       "      <td>NaN</td>\n",
       "      <td>Dallas</td>\n",
       "      <td>US</td>\n",
       "      <td>2016-02-05T00:00:00+00:00</td>\n",
       "      <td>2016-02-05T00:00:00+00:00</td>\n",
       "      <td>ch4</td>\n",
       "      <td>2.807451</td>\n",
       "      <td>ppm</td>\n",
       "      <td>32.707555</td>\n",
       "      <td>-96.815905</td>\n",
       "    </tr>\n",
       "    <tr>\n",
       "      <th>6</th>\n",
       "      <td>61498</td>\n",
       "      <td>NaN</td>\n",
       "      <td>Dallas</td>\n",
       "      <td>US</td>\n",
       "      <td>2016-02-05T00:00:00+00:00</td>\n",
       "      <td>2016-02-05T00:00:00+00:00</td>\n",
       "      <td>ch4</td>\n",
       "      <td>0.466063</td>\n",
       "      <td>ppm</td>\n",
       "      <td>32.732102</td>\n",
       "      <td>-96.811475</td>\n",
       "    </tr>\n",
       "    <tr>\n",
       "      <th>7</th>\n",
       "      <td>61498</td>\n",
       "      <td>NaN</td>\n",
       "      <td>Dallas</td>\n",
       "      <td>US</td>\n",
       "      <td>2016-02-05T00:00:00+00:00</td>\n",
       "      <td>2016-02-05T00:00:00+00:00</td>\n",
       "      <td>ch4</td>\n",
       "      <td>1.384808</td>\n",
       "      <td>ppm</td>\n",
       "      <td>32.867042</td>\n",
       "      <td>-96.804674</td>\n",
       "    </tr>\n",
       "    <tr>\n",
       "      <th>8</th>\n",
       "      <td>61498</td>\n",
       "      <td>NaN</td>\n",
       "      <td>Dallas</td>\n",
       "      <td>US</td>\n",
       "      <td>2016-02-05T00:00:00+00:00</td>\n",
       "      <td>2016-02-05T00:00:00+00:00</td>\n",
       "      <td>ch4</td>\n",
       "      <td>1.196360</td>\n",
       "      <td>ppm</td>\n",
       "      <td>32.867384</td>\n",
       "      <td>-96.806516</td>\n",
       "    </tr>\n",
       "    <tr>\n",
       "      <th>9</th>\n",
       "      <td>61498</td>\n",
       "      <td>NaN</td>\n",
       "      <td>Dallas</td>\n",
       "      <td>US</td>\n",
       "      <td>2016-02-04T00:00:00+00:00</td>\n",
       "      <td>2016-02-04T00:00:00+00:00</td>\n",
       "      <td>ch4</td>\n",
       "      <td>1.044145</td>\n",
       "      <td>ppm</td>\n",
       "      <td>32.823235</td>\n",
       "      <td>-96.796774</td>\n",
       "    </tr>\n",
       "  </tbody>\n",
       "</table>\n",
       "</div>"
      ],
      "text/plain": [
       "   locationId  location    city country                        utc  \\\n",
       "0       61498       NaN  Dallas      US  2016-02-05T00:00:00+00:00   \n",
       "1       61498       NaN  Dallas      US  2016-02-05T00:00:00+00:00   \n",
       "2       61498       NaN  Dallas      US  2016-02-05T00:00:00+00:00   \n",
       "3       61498       NaN  Dallas      US  2016-02-05T00:00:00+00:00   \n",
       "4       61498       NaN  Dallas      US  2016-02-05T00:00:00+00:00   \n",
       "5       61498       NaN  Dallas      US  2016-02-05T00:00:00+00:00   \n",
       "6       61498       NaN  Dallas      US  2016-02-05T00:00:00+00:00   \n",
       "7       61498       NaN  Dallas      US  2016-02-05T00:00:00+00:00   \n",
       "8       61498       NaN  Dallas      US  2016-02-05T00:00:00+00:00   \n",
       "9       61498       NaN  Dallas      US  2016-02-04T00:00:00+00:00   \n",
       "\n",
       "                       local parameter     value unit   latitude  longitude  \n",
       "0  2016-02-05T00:00:00+00:00       ch4  0.467942  ppm  32.874983 -96.804699  \n",
       "1  2016-02-05T00:00:00+00:00       ch4  0.520272  ppm  32.865702 -96.820827  \n",
       "2  2016-02-05T00:00:00+00:00       ch4  0.706175  ppm  32.874053 -96.813518  \n",
       "3  2016-02-05T00:00:00+00:00       ch4  0.970707  ppm  32.776010 -96.751040  \n",
       "4  2016-02-05T00:00:00+00:00       ch4  0.424838  ppm  32.734751 -96.811575  \n",
       "5  2016-02-05T00:00:00+00:00       ch4  2.807451  ppm  32.707555 -96.815905  \n",
       "6  2016-02-05T00:00:00+00:00       ch4  0.466063  ppm  32.732102 -96.811475  \n",
       "7  2016-02-05T00:00:00+00:00       ch4  1.384808  ppm  32.867042 -96.804674  \n",
       "8  2016-02-05T00:00:00+00:00       ch4  1.196360  ppm  32.867384 -96.806516  \n",
       "9  2016-02-04T00:00:00+00:00       ch4  1.044145  ppm  32.823235 -96.796774  "
      ]
     },
     "execution_count": 35,
     "metadata": {},
     "output_type": "execute_result"
    }
   ],
   "source": [
    "airq.head(10)"
   ]
  },
  {
   "cell_type": "code",
   "execution_count": 98,
   "metadata": {},
   "outputs": [
    {
     "data": {
      "text/plain": [
       "(339, 11)"
      ]
     },
     "execution_count": 98,
     "metadata": {},
     "output_type": "execute_result"
    }
   ],
   "source": [
    "airq.shape"
   ]
  },
  {
   "cell_type": "code",
   "execution_count": 99,
   "metadata": {},
   "outputs": [
    {
     "data": {
      "text/plain": [
       "<bound method DataFrame.info of      locationId  location    city country                  datetime  \\\n",
       "0         61498       NaN  Dallas      US 2016-02-05 00:00:00+00:00   \n",
       "1         61498       NaN  Dallas      US 2016-02-05 00:00:00+00:00   \n",
       "2         61498       NaN  Dallas      US 2016-02-05 00:00:00+00:00   \n",
       "3         61498       NaN  Dallas      US 2016-02-05 00:00:00+00:00   \n",
       "4         61498       NaN  Dallas      US 2016-02-05 00:00:00+00:00   \n",
       "..          ...       ...     ...     ...                       ...   \n",
       "334       61498       NaN  Dallas      US 2016-01-02 00:00:00+00:00   \n",
       "335       61498       NaN  Dallas      US 2016-01-02 00:00:00+00:00   \n",
       "336       61498       NaN  Dallas      US 2016-01-02 00:00:00+00:00   \n",
       "337       61498       NaN  Dallas      US 2016-01-02 00:00:00+00:00   \n",
       "338       61498       NaN  Dallas      US 2016-01-02 00:00:00+00:00   \n",
       "\n",
       "                         local parameter     value unit   latitude  longitude  \n",
       "0    2016-02-05T00:00:00+00:00       ch4  0.467942  ppm  32.874983 -96.804699  \n",
       "1    2016-02-05T00:00:00+00:00       ch4  0.520272  ppm  32.865702 -96.820827  \n",
       "2    2016-02-05T00:00:00+00:00       ch4  0.706175  ppm  32.874053 -96.813518  \n",
       "3    2016-02-05T00:00:00+00:00       ch4  0.970707  ppm  32.776010 -96.751040  \n",
       "4    2016-02-05T00:00:00+00:00       ch4  0.424838  ppm  32.734751 -96.811575  \n",
       "..                         ...       ...       ...  ...        ...        ...  \n",
       "334  2016-01-02T00:00:00+00:00       ch4  1.245171  ppm  32.742391 -96.821587  \n",
       "335  2016-01-02T00:00:00+00:00       ch4  1.326387  ppm  32.767144 -96.792619  \n",
       "336  2016-01-02T00:00:00+00:00       ch4  2.028080  ppm  32.737922 -96.818564  \n",
       "337  2016-01-02T00:00:00+00:00       ch4  0.349172  ppm  32.745038 -96.822739  \n",
       "338  2016-01-02T00:00:00+00:00       ch4  0.556259  ppm  32.777602 -96.776876  \n",
       "\n",
       "[339 rows x 11 columns]>"
      ]
     },
     "execution_count": 99,
     "metadata": {},
     "output_type": "execute_result"
    }
   ],
   "source": [
    "airq.info"
   ]
  },
  {
   "cell_type": "code",
   "execution_count": 44,
   "metadata": {},
   "outputs": [],
   "source": [
    "airq = airq.rename(columns={\"utc\": \"datetime\"})"
   ]
  },
  {
   "cell_type": "code",
   "execution_count": 45,
   "metadata": {},
   "outputs": [
    {
     "data": {
      "text/html": [
       "<div>\n",
       "<style scoped>\n",
       "    .dataframe tbody tr th:only-of-type {\n",
       "        vertical-align: middle;\n",
       "    }\n",
       "\n",
       "    .dataframe tbody tr th {\n",
       "        vertical-align: top;\n",
       "    }\n",
       "\n",
       "    .dataframe thead th {\n",
       "        text-align: right;\n",
       "    }\n",
       "</style>\n",
       "<table border=\"1\" class=\"dataframe\">\n",
       "  <thead>\n",
       "    <tr style=\"text-align: right;\">\n",
       "      <th></th>\n",
       "      <th>locationId</th>\n",
       "      <th>location</th>\n",
       "      <th>city</th>\n",
       "      <th>country</th>\n",
       "      <th>datetime</th>\n",
       "      <th>local</th>\n",
       "      <th>parameter</th>\n",
       "      <th>value</th>\n",
       "      <th>unit</th>\n",
       "      <th>latitude</th>\n",
       "      <th>longitude</th>\n",
       "    </tr>\n",
       "  </thead>\n",
       "  <tbody>\n",
       "    <tr>\n",
       "      <th>0</th>\n",
       "      <td>61498</td>\n",
       "      <td>NaN</td>\n",
       "      <td>Dallas</td>\n",
       "      <td>US</td>\n",
       "      <td>2016-02-05T00:00:00+00:00</td>\n",
       "      <td>2016-02-05T00:00:00+00:00</td>\n",
       "      <td>ch4</td>\n",
       "      <td>0.467942</td>\n",
       "      <td>ppm</td>\n",
       "      <td>32.874983</td>\n",
       "      <td>-96.804699</td>\n",
       "    </tr>\n",
       "    <tr>\n",
       "      <th>1</th>\n",
       "      <td>61498</td>\n",
       "      <td>NaN</td>\n",
       "      <td>Dallas</td>\n",
       "      <td>US</td>\n",
       "      <td>2016-02-05T00:00:00+00:00</td>\n",
       "      <td>2016-02-05T00:00:00+00:00</td>\n",
       "      <td>ch4</td>\n",
       "      <td>0.520272</td>\n",
       "      <td>ppm</td>\n",
       "      <td>32.865702</td>\n",
       "      <td>-96.820827</td>\n",
       "    </tr>\n",
       "    <tr>\n",
       "      <th>2</th>\n",
       "      <td>61498</td>\n",
       "      <td>NaN</td>\n",
       "      <td>Dallas</td>\n",
       "      <td>US</td>\n",
       "      <td>2016-02-05T00:00:00+00:00</td>\n",
       "      <td>2016-02-05T00:00:00+00:00</td>\n",
       "      <td>ch4</td>\n",
       "      <td>0.706175</td>\n",
       "      <td>ppm</td>\n",
       "      <td>32.874053</td>\n",
       "      <td>-96.813518</td>\n",
       "    </tr>\n",
       "    <tr>\n",
       "      <th>3</th>\n",
       "      <td>61498</td>\n",
       "      <td>NaN</td>\n",
       "      <td>Dallas</td>\n",
       "      <td>US</td>\n",
       "      <td>2016-02-05T00:00:00+00:00</td>\n",
       "      <td>2016-02-05T00:00:00+00:00</td>\n",
       "      <td>ch4</td>\n",
       "      <td>0.970707</td>\n",
       "      <td>ppm</td>\n",
       "      <td>32.776010</td>\n",
       "      <td>-96.751040</td>\n",
       "    </tr>\n",
       "    <tr>\n",
       "      <th>4</th>\n",
       "      <td>61498</td>\n",
       "      <td>NaN</td>\n",
       "      <td>Dallas</td>\n",
       "      <td>US</td>\n",
       "      <td>2016-02-05T00:00:00+00:00</td>\n",
       "      <td>2016-02-05T00:00:00+00:00</td>\n",
       "      <td>ch4</td>\n",
       "      <td>0.424838</td>\n",
       "      <td>ppm</td>\n",
       "      <td>32.734751</td>\n",
       "      <td>-96.811575</td>\n",
       "    </tr>\n",
       "  </tbody>\n",
       "</table>\n",
       "</div>"
      ],
      "text/plain": [
       "   locationId  location    city country                   datetime  \\\n",
       "0       61498       NaN  Dallas      US  2016-02-05T00:00:00+00:00   \n",
       "1       61498       NaN  Dallas      US  2016-02-05T00:00:00+00:00   \n",
       "2       61498       NaN  Dallas      US  2016-02-05T00:00:00+00:00   \n",
       "3       61498       NaN  Dallas      US  2016-02-05T00:00:00+00:00   \n",
       "4       61498       NaN  Dallas      US  2016-02-05T00:00:00+00:00   \n",
       "\n",
       "                       local parameter     value unit   latitude  longitude  \n",
       "0  2016-02-05T00:00:00+00:00       ch4  0.467942  ppm  32.874983 -96.804699  \n",
       "1  2016-02-05T00:00:00+00:00       ch4  0.520272  ppm  32.865702 -96.820827  \n",
       "2  2016-02-05T00:00:00+00:00       ch4  0.706175  ppm  32.874053 -96.813518  \n",
       "3  2016-02-05T00:00:00+00:00       ch4  0.970707  ppm  32.776010 -96.751040  \n",
       "4  2016-02-05T00:00:00+00:00       ch4  0.424838  ppm  32.734751 -96.811575  "
      ]
     },
     "execution_count": 45,
     "metadata": {},
     "output_type": "execute_result"
    }
   ],
   "source": [
    "airq.head()"
   ]
  },
  {
   "cell_type": "code",
   "execution_count": 48,
   "metadata": {},
   "outputs": [
    {
     "data": {
      "text/plain": [
       "[<matplotlib.lines.Line2D at 0x7ffbd1925bb0>]"
      ]
     },
     "execution_count": 48,
     "metadata": {},
     "output_type": "execute_result"
    },
    {
     "data": {
      "image/png": "[encoded data removed]",
      "text/plain": [
       "<Figure size 432x288 with 1 Axes>"
      ]
     },
     "metadata": {
      "needs_background": "light"
     },
     "output_type": "display_data"
    }
   ],
   "source": [
    "plt.plot(airq['datetime'], airq['value'])"
   ]
  },
  {
   "cell_type": "code",
   "execution_count": 67,
   "metadata": {},
   "outputs": [],
   "source": [
    "airq[\"datetime\"] = pd.to_datetime(airq[\"datetime\"])"
   ]
  },
  {
   "cell_type": "code",
   "execution_count": 68,
   "metadata": {},
   "outputs": [
    {
     "data": {
      "text/plain": [
       "(Timestamp('2016-01-02 00:00:00+0000', tz='UTC'),\n",
       " Timestamp('2016-02-05 00:00:00+0000', tz='UTC'))"
      ]
     },
     "execution_count": 68,
     "metadata": {},
     "output_type": "execute_result"
    }
   ],
   "source": [
    "airq['datetime'].min(),airq['datetime'].max()"
   ]
  },
  {
   "cell_type": "code",
   "execution_count": null,
   "metadata": {},
   "outputs": [],
   "source": [
    "#What is the average concentration for each day of the week for each of the measurement locations?"
   ]
  },
  {
   "cell_type": "code",
   "execution_count": 73,
   "metadata": {},
   "outputs": [
    {
     "data": {
      "text/plain": [
       "datetime  city  \n",
       "0         Dallas    0.817607\n",
       "1         Dallas    1.403346\n",
       "2         Dallas    1.088512\n",
       "3         Dallas    1.164696\n",
       "4         Dallas    0.916162\n",
       "5         Dallas    1.101014\n",
       "6         Dallas    1.324754\n",
       "Name: value, dtype: float64"
      ]
     },
     "execution_count": 73,
     "metadata": {},
     "output_type": "execute_result"
    }
   ],
   "source": [
    "airq.groupby([airq[\"datetime\"].dt.weekday, 'city'])[\"value\"].mean()"
   ]
  },
  {
   "cell_type": "code",
   "execution_count": 77,
   "metadata": {},
   "outputs": [
    {
     "data": {
      "text/plain": [
       "[<matplotlib.lines.Line2D at 0x7ffbd1bed0d0>]"
      ]
     },
     "execution_count": 77,
     "metadata": {},
     "output_type": "execute_result"
    },
    {
     "data": {
      "image/png": "[encoded data removed]",
      "text/plain": [
       "<Figure size 432x288 with 1 Axes>"
      ]
     },
     "metadata": {
      "needs_background": "light"
     },
     "output_type": "display_data"
    }
   ],
   "source": [
    "plt.plot(airq[\"datetime\"].dt.day, t.airq['value'])"
   ]
  },
  {
   "cell_type": "code",
   "execution_count": 76,
   "metadata": {},
   "outputs": [
    {
     "data": {
      "text/plain": [
       "<bound method DataFrame.info of      locationId  location    city country                  datetime  \\\n",
       "0         61498       NaN  Dallas      US 2016-02-05 00:00:00+00:00   \n",
       "1         61498       NaN  Dallas      US 2016-02-05 00:00:00+00:00   \n",
       "2         61498       NaN  Dallas      US 2016-02-05 00:00:00+00:00   \n",
       "3         61498       NaN  Dallas      US 2016-02-05 00:00:00+00:00   \n",
       "4         61498       NaN  Dallas      US 2016-02-05 00:00:00+00:00   \n",
       "..          ...       ...     ...     ...                       ...   \n",
       "334       61498       NaN  Dallas      US 2016-01-02 00:00:00+00:00   \n",
       "335       61498       NaN  Dallas      US 2016-01-02 00:00:00+00:00   \n",
       "336       61498       NaN  Dallas      US 2016-01-02 00:00:00+00:00   \n",
       "337       61498       NaN  Dallas      US 2016-01-02 00:00:00+00:00   \n",
       "338       61498       NaN  Dallas      US 2016-01-02 00:00:00+00:00   \n",
       "\n",
       "                         local parameter     value unit   latitude  longitude  \n",
       "0    2016-02-05T00:00:00+00:00       ch4  0.467942  ppm  32.874983 -96.804699  \n",
       "1    2016-02-05T00:00:00+00:00       ch4  0.520272  ppm  32.865702 -96.820827  \n",
       "2    2016-02-05T00:00:00+00:00       ch4  0.706175  ppm  32.874053 -96.813518  \n",
       "3    2016-02-05T00:00:00+00:00       ch4  0.970707  ppm  32.776010 -96.751040  \n",
       "4    2016-02-05T00:00:00+00:00       ch4  0.424838  ppm  32.734751 -96.811575  \n",
       "..                         ...       ...       ...  ...        ...        ...  \n",
       "334  2016-01-02T00:00:00+00:00       ch4  1.245171  ppm  32.742391 -96.821587  \n",
       "335  2016-01-02T00:00:00+00:00       ch4  1.326387  ppm  32.767144 -96.792619  \n",
       "336  2016-01-02T00:00:00+00:00       ch4  2.028080  ppm  32.737922 -96.818564  \n",
       "337  2016-01-02T00:00:00+00:00       ch4  0.349172  ppm  32.745038 -96.822739  \n",
       "338  2016-01-02T00:00:00+00:00       ch4  0.556259  ppm  32.777602 -96.776876  \n",
       "\n",
       "[339 rows x 11 columns]>"
      ]
     },
     "execution_count": 76,
     "metadata": {},
     "output_type": "execute_result"
    }
   ],
   "source": [
    "airq.info"
   ]
  },
  {
   "cell_type": "code",
   "execution_count": 95,
   "metadata": {},
   "outputs": [
    {
     "data": {
      "text/plain": [
       "<AxesSubplot:xlabel='datetime'>"
      ]
     },
     "execution_count": 95,
     "metadata": {},
     "output_type": "execute_result"
    },
    {
     "data": {
      "image/png": "[encoded data removed]",
      "text/plain": [
       "<Figure size 432x288 with 1 Axes>"
      ]
     },
     "metadata": {
      "needs_background": "light"
     },
     "output_type": "display_data"
    }
   ],
   "source": [
    "airq.groupby(airq[\"datetime\"].dt.day)[\"value\"].mean().plot(\n",
    "       kind='bar')"
   ]
  },
  {
   "cell_type": "code",
   "execution_count": 78,
   "metadata": {},
   "outputs": [],
   "source": [
    "dayV=airq[\"datetime\"].dt.day"
   ]
  },
  {
   "cell_type": "code",
   "execution_count": 81,
   "metadata": {},
   "outputs": [],
   "source": [
    "dayF=fft(dayV)"
   ]
  },
  {
   "cell_type": "code",
   "execution_count": 82,
   "metadata": {},
   "outputs": [],
   "source": [
    "N=len(dayF)"
   ]
  },
  {
   "cell_type": "code",
   "execution_count": 85,
   "metadata": {},
   "outputs": [],
   "source": [
    "n=np.arange(N)"
   ]
  },
  {
   "cell_type": "code",
   "execution_count": 87,
   "metadata": {},
   "outputs": [],
   "source": [
    "# get sampling rate\n",
    "sr= 1/100\n",
    "T= N/sr\n",
    "freq=n/T"
   ]
  },
  {
   "cell_type": "code",
   "execution_count": 92,
   "metadata": {},
   "outputs": [
    {
     "data": {
      "text/plain": [
       "Text(0, 0.5, 'FFT amplitude')"
      ]
     },
     "execution_count": 92,
     "metadata": {},
     "output_type": "execute_result"
    },
    {
     "data": {
      "image/png": "[encoded data removed]",
      "text/plain": [
       "<Figure size 432x288 with 1 Axes>"
      ]
     },
     "metadata": {
      "needs_background": "light"
     },
     "output_type": "display_data"
    }
   ],
   "source": [
    "plt.plot(freq,np.abs(dayF),'ro')\n",
    "plt.xlabel('Freq (Hz)')\n",
    "plt.ylabel('FFT amplitude')"
   ]
  },
  {
   "cell_type": "code",
   "execution_count": null,
   "metadata": {},
   "outputs": [],
   "source": []
  }
 ],
 "metadata": {
  "kernelspec": {
   "display_name": "Python 3",
   "language": "python",
   "name": "python3"
  },
  "language_info": {
   "codemirror_mode": {
    "name": "ipython",
    "version": 3
   },
   "file_extension": ".py",
   "mimetype": "text/x-python",
   "name": "python",
   "nbconvert_exporter": "python",
   "pygments_lexer": "ipython3",
   "version": "3.8.5"
  }
 },
 "nbformat": 4,
 "nbformat_minor": 4
}
